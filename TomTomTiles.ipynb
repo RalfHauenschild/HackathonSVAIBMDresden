{
 "cells": [
  {
   "cell_type": "code",
   "execution_count": 6,
   "metadata": {
    "collapsed": true
   },
   "outputs": [],
   "source": [
    "import math\n",
    "def deg2num(lat_deg, lon_deg, zoom):\n",
    "  lat_rad = math.radians(lat_deg)\n",
    "  n = 2.0 ** zoom\n",
    "  xtile = int((lon_deg + 180.0) / 360.0 * n)\n",
    "  ytile = int((1.0 - math.log(math.tan(lat_rad) + (1 / math.cos(lat_rad))) / math.pi) / 2.0 * n)\n",
    "  return (xtile, ytile)\n",
    "\n",
    "def num2deg(xtile, ytile, zoom):\n",
    "  n = 2.0 ** zoom\n",
    "  lon_deg = xtile / n * 360.0 - 180.0\n",
    "  lat_rad = math.atan(math.sinh(math.pi * (1 - 2 * ytile / n)))\n",
    "  lat_deg = math.degrees(lat_rad)\n",
    "  return (lat_deg, lon_deg)"
   ]
  },
  {
   "cell_type": "code",
   "execution_count": null,
   "metadata": {
    "collapsed": true
   },
   "outputs": [],
   "source": [
    "\n"
   ]
  },
  {
   "cell_type": "code",
   "execution_count": null,
   "metadata": {
    "collapsed": true
   },
   "outputs": [],
   "source": []
  },
  {
   "cell_type": "code",
   "execution_count": null,
   "metadata": {
    "collapsed": true
   },
   "outputs": [],
   "source": []
  },
  {
   "cell_type": "code",
   "execution_count": null,
   "metadata": {
    "collapsed": true
   },
   "outputs": [],
   "source": []
  },
  {
   "cell_type": "code",
   "execution_count": 3,
   "metadata": {},
   "outputs": [
    {
     "name": "stderr",
     "output_type": "stream",
     "text": [
      "C:\\Users\\rhauensc\\AppData\\Local\\Continuum\\Anaconda3\\lib\\site-packages\\IPython\\html.py:14: ShimWarning: The `IPython.html` package has been deprecated since IPython 4.0. You should import from `notebook` instead. `IPython.html.widgets` has moved to `ipywidgets`.\n",
      "  \"`IPython.html.widgets` has moved to `ipywidgets`.\", ShimWarning)\n"
     ]
    }
   ],
   "source": [
    "from IPython.html import widgets\n",
    "from IPython.display import display\n",
    "from IPython.display import Image\n",
    "from IPython.core.display import HTML\n",
    "from IPython.display import clear_output\n"
   ]
  },
  {
   "cell_type": "code",
   "execution_count": null,
   "metadata": {
    "collapsed": true
   },
   "outputs": [],
   "source": [
    "# http://wiki.openstreetmap.org/wiki/Slippy_map_tilenames#Lon..2Flat._to_tile_numbers_2"
   ]
  },
  {
   "cell_type": "code",
   "execution_count": 12,
   "metadata": {},
   "outputs": [
    {
     "data": {
      "text/html": [
       "<img src=\"https://api.tomtom.com/traffic/map/4/tile/flow/absolute/10/535/347.png?key=RWUS1ztN4mGjqP8c4AudArSW7TpOgFCs\"/>"
      ],
      "text/plain": [
       "<IPython.core.display.Image object>"
      ]
     },
     "metadata": {},
     "output_type": "display_data"
    },
    {
     "data": {
      "text/html": [
       "<img src=\"https://api.tomtom.com/traffic/map/4/tile/incidents/s3/10/535/347.png?key=V4k8Kk94AXVPM0ADAOc125uKIyyp5UUr\"/>"
      ],
      "text/plain": [
       "<IPython.core.display.Image object>"
      ]
     },
     "metadata": {},
     "output_type": "display_data"
    },
    {
     "name": "stdout",
     "output_type": "stream",
     "text": [
      "Tiles - lat,lon: (535, 347)\n",
      "Degrees - lat,lon: (50.06419173665909, 8.0859375)\n",
      "Zoom: 10\n",
      "https://api.tomtom.com/traffic/map/4/tile/flow/absolute/10/535/347.png?key=RWUS1ztN4mGjqP8c4AudArSW7TpOgFCs\n",
      "https://api.tomtom.com/traffic/map/4/tile/incidents/s3/10/535/347.png?key=V4k8Kk94AXVPM0ADAOc125uKIyyp5UUr\n"
     ]
    }
   ],
   "source": [
    "zoom = 14\n",
    "origin = deg2num(50.006376, 8.276099,zoom)\n",
    "current = (origin[0], origin[1])\n",
    "display(Image(url= \"https://api.tomtom.com/traffic/map/4/tile/flow/absolute/\" + str(zoom) + \"/\" + str(current[0]) + \"/\" + str(current[1]) + \".png?key=RWUS1ztN4mGjqP8c4AudArSW7TpOgFCs\"))\n",
    "display(Image(url= \"https://api.tomtom.com/traffic/map/4/tile/incidents/s3/\" + str(zoom) + \"/\" + str(current[0]) + \"/\" + str(current[1]) + \".png?key=V4k8Kk94AXVPM0ADAOc125uKIyyp5UUr\"))\n",
    "\n",
    "\n",
    "\n",
    "def printDetails():\n",
    "    print(\"Tiles - lat,lon:\", current)\n",
    "    print(\"Degrees - lat,lon:\", num2deg(current[0], current[1], zoom))\n",
    "    print(\"Zoom:\", zoom)\n",
    "    print(\"https://api.tomtom.com/traffic/map/4/tile/flow/absolute/\" + str(zoom) + \"/\" + str(current[0]) + \"/\" + str(current[1]) + \".png?key=RWUS1ztN4mGjqP8c4AudArSW7TpOgFCs\")\n",
    "    print(\"https://api.tomtom.com/traffic/map/4/tile/incidents/s3/\" + str(zoom) + \"/\" + str(current[0]) + \"/\" + str(current[1]) + \".png?key=V4k8Kk94AXVPM0ADAOc125uKIyyp5UUr\")\n",
    "\n",
    "    \n",
    "def left(c):\n",
    "    clear_output()\n",
    "    global current\n",
    "    current = (current[0]-1, current[1])\n",
    "    display(Image(url= \"https://api.tomtom.com/traffic/map/4/tile/flow/absolute/\" + str(zoom) + \"/\" + str(current[0]) + \"/\" + str(current[1]) + \".png?key=RWUS1ztN4mGjqP8c4AudArSW7TpOgFCs\"))\n",
    "    display(Image(url= \"https://api.tomtom.com/traffic/map/4/tile/incidents/s3/\" + str(zoom) + \"/\" + str(current[0]) + \"/\" + str(current[1]) + \".png?key=V4k8Kk94AXVPM0ADAOc125uKIyyp5UUr\"))\n",
    "    printDetails()\n",
    "\n",
    "def right(c):\n",
    "    clear_output()\n",
    "    global current\n",
    "    current = (current[0]+1, current[1])\n",
    "    display(Image(url= \"https://api.tomtom.com/traffic/map/4/tile/flow/absolute/\" + str(zoom) + \"/\" + str(current[0]) + \"/\" + str(current[1]) + \".png?key=RWUS1ztN4mGjqP8c4AudArSW7TpOgFCs\"))\n",
    "    display(Image(url= \"https://api.tomtom.com/traffic/map/4/tile/incidents/s3/\" + str(zoom) + \"/\" + str(current[0]) + \"/\" + str(current[1]) + \".png?key=V4k8Kk94AXVPM0ADAOc125uKIyyp5UUr\"))\n",
    "    printDetails()\n",
    "\n",
    "def up(c):\n",
    "    clear_output()\n",
    "    global current\n",
    "    current = (current[0], current[1]-1)\n",
    "    display(Image(url= \"https://api.tomtom.com/traffic/map/4/tile/flow/absolute/\" + str(zoom) + \"/\" + str(current[0]) + \"/\" + str(current[1]) + \".png?key=RWUS1ztN4mGjqP8c4AudArSW7TpOgFCs\"))\n",
    "    display(Image(url= \"https://api.tomtom.com/traffic/map/4/tile/incidents/s3/\" + str(zoom) + \"/\" + str(current[0]) + \"/\" + str(current[1]) + \".png?key=V4k8Kk94AXVPM0ADAOc125uKIyyp5UUr\"))\n",
    "    printDetails()\n",
    "\n",
    "def down(c):\n",
    "    clear_output()\n",
    "    global current\n",
    "    current = (current[0], current[1]+1)\n",
    "    display(Image(url= \"https://api.tomtom.com/traffic/map/4/tile/flow/absolute/\" + str(zoom) + \"/\" + str(current[0]) + \"/\" + str(current[1]) + \".png?key=RWUS1ztN4mGjqP8c4AudArSW7TpOgFCs\"))\n",
    "    display(Image(url= \"https://api.tomtom.com/traffic/map/4/tile/incidents/s3/\" + str(zoom) + \"/\" + str(current[0]) + \"/\" + str(current[1]) + \".png?key=V4k8Kk94AXVPM0ADAOc125uKIyyp5UUr\"))\n",
    "    printDetails()\n",
    "\n",
    "def zoomIn(c):\n",
    "    clear_output()\n",
    "    global current\n",
    "    global zoom\n",
    "    global deg2num\n",
    "    global num2deg\n",
    "    current = num2deg(current[0],current[1],zoom)\n",
    "    zoom+=1\n",
    "    current = deg2num(current[0],current[1],zoom)\n",
    "    display(Image(url= \"https://api.tomtom.com/traffic/map/4/tile/flow/absolute/\" + str(zoom) + \"/\" + str(current[0]) + \"/\" + str(current[1]) + \".png?key=RWUS1ztN4mGjqP8c4AudArSW7TpOgFCs\"))\n",
    "    display(Image(url= \"https://api.tomtom.com/traffic/map/4/tile/incidents/s3/\" + str(zoom) + \"/\" + str(current[0]) + \"/\" + str(current[1]) + \".png?key=V4k8Kk94AXVPM0ADAOc125uKIyyp5UUr\"))\n",
    "    printDetails()\n",
    "\n",
    "def zoomOut(c):\n",
    "    clear_output()\n",
    "    global current\n",
    "    global zoom\n",
    "    global deg2num\n",
    "    global num2deg\n",
    "    current = num2deg(current[0],current[1],zoom)\n",
    "    zoom-=1\n",
    "    current = deg2num(current[0],current[1],zoom)\n",
    "    display(Image(url= \"https://api.tomtom.com/traffic/map/4/tile/flow/absolute/\" + str(zoom) + \"/\" + str(current[0]) + \"/\" + str(current[1]) + \".png?key=RWUS1ztN4mGjqP8c4AudArSW7TpOgFCs\"))\n",
    "    display(Image(url= \"https://api.tomtom.com/traffic/map/4/tile/incidents/s3/\" + str(zoom) + \"/\" + str(current[0]) + \"/\" + str(current[1]) + \".png?key=V4k8Kk94AXVPM0ADAOc125uKIyyp5UUr\"))\n",
    "    printDetails()\n",
    "\n",
    "btn = widgets.Button(description=\"<left<\")\n",
    "btn.on_click(left)\n",
    "display(btn)\n",
    "\n",
    "btn = widgets.Button(description=\">right>\")\n",
    "btn.on_click(right)\n",
    "display(btn)\n",
    "\n",
    "btn = widgets.Button(description=\"^up^\")\n",
    "btn.on_click(up)\n",
    "display(btn)\n",
    "\n",
    "btn = widgets.Button(description=\"v down v\")\n",
    "btn.on_click(down)\n",
    "display(btn)\n",
    "\n",
    "btn = widgets.Button(description=\"+zoom+\")\n",
    "btn.on_click(zoomIn)\n",
    "display(btn)\n",
    "\n",
    "btn = widgets.Button(description=\"-zoom-\")\n",
    "btn.on_click(zoomOut)\n",
    "display(btn)\n",
    "\n",
    "printDetails()\n"
   ]
  },
  {
   "cell_type": "code",
   "execution_count": null,
   "metadata": {
    "collapsed": true
   },
   "outputs": [],
   "source": []
  },
  {
   "cell_type": "code",
   "execution_count": null,
   "metadata": {
    "collapsed": true
   },
   "outputs": [],
   "source": []
  },
  {
   "cell_type": "code",
   "execution_count": null,
   "metadata": {
    "collapsed": true
   },
   "outputs": [],
   "source": []
  },
  {
   "cell_type": "code",
   "execution_count": null,
   "metadata": {
    "collapsed": true
   },
   "outputs": [],
   "source": []
  }
 ],
 "metadata": {
  "kernelspec": {
   "display_name": "Python 3",
   "language": "python",
   "name": "python3"
  },
  "language_info": {
   "codemirror_mode": {
    "name": "ipython",
    "version": 3
   },
   "file_extension": ".py",
   "mimetype": "text/x-python",
   "name": "python",
   "nbconvert_exporter": "python",
   "pygments_lexer": "ipython3",
   "version": "3.6.1"
  }
 },
 "nbformat": 4,
 "nbformat_minor": 2
}
